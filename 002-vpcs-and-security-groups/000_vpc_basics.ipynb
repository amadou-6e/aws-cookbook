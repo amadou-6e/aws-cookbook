{
 "cells": [
  {
   "cell_type": "markdown",
   "metadata": {},
   "source": [
    "# AWS Networking Fundamentals: Virtual Private Clouds\n",
    "\n",
    "Amazon Virtual Private Cloud (VPC) is the foundational component for networking in AWS. It enables you to provision a logically isolated section of the AWS Cloud where you can launch AWS resources in a virtual network that you define. A VPC closely resembles a traditional on-premises network with the added benefit of leveraging AWS’s scalable infrastructure.\n",
    "\n",
    "Just as Azure relies on VNets to create private address spaces, AWS uses VPCs to define and control networking environments. This includes defining IP address ranges, organizing resources into subnets, and controlling routing and connectivity.\n",
    "\n",
    "In this notebook, we cover the essential concepts and practical setup of an AWS VPC from scratch.\n",
    "\n",
    "This notebook focuses on:\n",
    "- Creating a custom VPC\n",
    "- Defining address space with CIDR\n",
    "- Creating public and private subnets\n",
    "- Associating route tables and deploying an internet gateway\n",
    "\n",
    "The goal is to establish a clean and minimal VPC network suitable as a foundation for more advanced networking configurations.\n",
    "\n",
    "## VPC: Virtual Private Cloud Basics\n",
    "\n",
    "A VPC is a regional resource that spans all Availability Zones (AZs) within a region. When you create a VPC, you define an IPv4 CIDR block (e.g., `10.0.0.0/16`) that serves as the address space for all resources within the VPC. Each subnet created within the VPC must fall within this range.\n",
    "\n",
    "Subnets enable you to divide your network logically. AWS recommends placing public-facing resources like web servers in **public subnets** (those with a route to the internet), and backend services like databases in **private subnets**.\n",
    "\n",
    "A minimal custom VPC setup includes:\n",
    "- A VPC with a `/16` CIDR block\n",
    "- At least one public and one private subnet\n",
    "- A route table for each subnet\n",
    "- An Internet Gateway attached to the VPC\n",
    "- Route table association for internet access\n",
    "\n",
    "The final VPC will look something like this:\n",
    "\n",
    "<img src=\"assets/pics/000_vpc_basics/public_and_privat_subnets_in_vpc.png\" alt=\"Alt text\" width=\"600rem\"/>\n",
    "\n",
    "\n",
    "## Setup: Connecting you to AWS Cloud\n",
    "\n",
    "First, let's make sure that you can reach your cloud account."
   ]
  },
  {
   "cell_type": "code",
   "execution_count": 1,
   "metadata": {},
   "outputs": [
    {
     "name": "stdout",
     "output_type": "stream",
     "text": [
      "Collecting boto3\n",
      "  Downloading boto3-1.37.18-py3-none-any.whl.metadata (6.7 kB)\n",
      "Requirement already satisfied: python-dotenv in c:\\users\\acisse\\appdata\\roaming\\python\\python311\\site-packages (1.0.1)\n",
      "Collecting botocore<1.38.0,>=1.37.18 (from boto3)\n",
      "  Downloading botocore-1.37.18-py3-none-any.whl.metadata (5.7 kB)\n",
      "Collecting jmespath<2.0.0,>=0.7.1 (from boto3)\n",
      "  Using cached jmespath-1.0.1-py3-none-any.whl.metadata (7.6 kB)\n",
      "Collecting s3transfer<0.12.0,>=0.11.0 (from boto3)\n",
      "  Downloading s3transfer-0.11.4-py3-none-any.whl.metadata (1.7 kB)\n",
      "Requirement already satisfied: python-dateutil<3.0.0,>=2.1 in c:\\users\\acisse\\.conda\\envs\\002-vpcs-and-security-groups\\lib\\site-packages (from botocore<1.38.0,>=1.37.18->boto3) (2.9.0.post0)\n",
      "Requirement already satisfied: urllib3!=2.2.0,<3,>=1.25.4 in c:\\users\\acisse\\appdata\\roaming\\python\\python311\\site-packages (from botocore<1.38.0,>=1.37.18->boto3) (2.3.0)\n",
      "Requirement already satisfied: six>=1.5 in c:\\users\\acisse\\.conda\\envs\\002-vpcs-and-security-groups\\lib\\site-packages (from python-dateutil<3.0.0,>=2.1->botocore<1.38.0,>=1.37.18->boto3) (1.17.0)\n",
      "Downloading boto3-1.37.18-py3-none-any.whl (139 kB)\n",
      "Downloading botocore-1.37.18-py3-none-any.whl (13.4 MB)\n",
      "   ---------------------------------------- 0.0/13.4 MB ? eta -:--:--\n",
      "   -- ------------------------------------- 0.8/13.4 MB 5.6 MB/s eta 0:00:03\n",
      "   ----- ---------------------------------- 1.8/13.4 MB 4.8 MB/s eta 0:00:03\n",
      "   -------- ------------------------------- 2.9/13.4 MB 4.8 MB/s eta 0:00:03\n",
      "   ---------- ----------------------------- 3.7/13.4 MB 4.7 MB/s eta 0:00:03\n",
      "   ------------ --------------------------- 4.2/13.4 MB 4.3 MB/s eta 0:00:03\n",
      "   --------------- ------------------------ 5.2/13.4 MB 4.2 MB/s eta 0:00:02\n",
      "   ----------------- ---------------------- 6.0/13.4 MB 4.1 MB/s eta 0:00:02\n",
      "   --------------------- ------------------ 7.1/13.4 MB 4.3 MB/s eta 0:00:02\n",
      "   ------------------------ --------------- 8.1/13.4 MB 4.3 MB/s eta 0:00:02\n",
      "   -------------------------- ------------- 8.9/13.4 MB 4.4 MB/s eta 0:00:02\n",
      "   ------------------------------ --------- 10.2/13.4 MB 4.5 MB/s eta 0:00:01\n",
      "   -------------------------------- ------- 10.7/13.4 MB 4.3 MB/s eta 0:00:01\n",
      "   --------------------------------- ------ 11.3/13.4 MB 4.4 MB/s eta 0:00:01\n",
      "   ----------------------------------- ---- 11.8/13.4 MB 4.2 MB/s eta 0:00:01\n",
      "   ----------------------------------- ---- 11.8/13.4 MB 4.2 MB/s eta 0:00:01\n",
      "   ----------------------------------- ---- 12.1/13.4 MB 3.6 MB/s eta 0:00:01\n",
      "   ------------------------------------ --- 12.3/13.4 MB 3.5 MB/s eta 0:00:01\n",
      "   -------------------------------------- - 12.8/13.4 MB 3.4 MB/s eta 0:00:01\n",
      "   ---------------------------------------- 13.4/13.4 MB 3.4 MB/s eta 0:00:00\n",
      "Using cached jmespath-1.0.1-py3-none-any.whl (20 kB)\n",
      "Downloading s3transfer-0.11.4-py3-none-any.whl (84 kB)\n",
      "Installing collected packages: jmespath, botocore, s3transfer, boto3\n",
      "Successfully installed boto3-1.37.18 botocore-1.37.18 jmespath-1.0.1 s3transfer-0.11.4\n",
      "Note: you may need to restart the kernel to use updated packages.\n"
     ]
    }
   ],
   "source": [
    "%pip install boto3 python-dotenv"
   ]
  },
  {
   "cell_type": "code",
   "execution_count": null,
   "metadata": {},
   "outputs": [],
   "source": [
    "import os\n",
    "import boto3\n",
    "from dotenv import load_dotenv\n",
    "\n",
    "load_dotenv()"
   ]
  },
  {
   "cell_type": "code",
   "execution_count": null,
   "metadata": {},
   "outputs": [],
   "source": [
    "aws_region = os.getenv(\"AWS_REGION\", \"eu-north-1\")"
   ]
  },
  {
   "cell_type": "code",
   "execution_count": null,
   "metadata": {},
   "outputs": [],
   "source": [
    "session = boto3.Session(region_name=aws_region)\n",
    "\n",
    "# Create a client for EC2 (which includes VPC and subnet operations)\n",
    "ec2 = session.client('ec2')\n",
    "\n",
    "# List all VPCs in the account\n",
    "vpcs = ec2.describe_vpcs()\n",
    "vpcs['Vpcs']"
   ]
  }
 ],
 "metadata": {
  "kernelspec": {
   "display_name": "Python 3",
   "language": "python",
   "name": "python3"
  },
  "language_info": {
   "codemirror_mode": {
    "name": "ipython",
    "version": 3
   },
   "file_extension": ".py",
   "mimetype": "text/x-python",
   "name": "python",
   "nbconvert_exporter": "python",
   "pygments_lexer": "ipython3",
   "version": "3.11.11"
  }
 },
 "nbformat": 4,
 "nbformat_minor": 2
}
